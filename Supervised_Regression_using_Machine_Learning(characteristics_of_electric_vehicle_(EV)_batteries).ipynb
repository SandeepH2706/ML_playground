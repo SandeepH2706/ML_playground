{
  "nbformat": 4,
  "nbformat_minor": 0,
  "metadata": {
    "colab": {
      "provenance": [],
      "mount_file_id": "1kPDlUH4xioFwJA0oJ-oBysXBHqQLivSo",
      "authorship_tag": "ABX9TyPUpdvC00FE1LtolYy/1xKI",
      "include_colab_link": true
    },
    "kernelspec": {
      "name": "python3",
      "display_name": "Python 3"
    },
    "language_info": {
      "name": "python"
    }
  },
  "cells": [
    {
      "cell_type": "markdown",
      "metadata": {
        "id": "view-in-github",
        "colab_type": "text"
      },
      "source": [
        "<a href=\"https://colab.research.google.com/github/SandeepH2706/ML_playground/blob/main/Supervised_Regression_using_Machine_Learning(characteristics_of_electric_vehicle_(EV)_batteries).ipynb\" target=\"_parent\"><img src=\"https://colab.research.google.com/assets/colab-badge.svg\" alt=\"Open In Colab\"/></a>"
      ]
    },
    {
      "cell_type": "markdown",
      "source": [
        "#About Dataset\n",
        "> This dataset contains data related to the charging characteristics of electric vehicle (EV) batteries. The dataset includes various factors affecting battery performance, degradation, and charging duration, along with the target variable representing the optimal charging duration classification. The data is organized with both numerical and categorical features and is designed for analysis or prediction tasks.\n",
        "\n",
        "\n",
        "##Features:\n",
        "1.SOC (%):  State-of-Charge of the EV battery, expressed as a percentage. This indicates the current charge level of the battery.\n",
        "\n",
        "2.Voltage (V): Voltage of the battery during charging, measured in volts (V).\n",
        "\n",
        "3.Current (A): The current (in amperes) flowing into the battery during the charging process.\n",
        "\n",
        "4.Battery Temp (°C): The temperature of the battery during charging, measured in degrees Celsius (°C).\n",
        "\n",
        "5.Ambient Temp (°C): The surrounding temperature of the environment in which the EV is being charged.\n",
        "\n",
        "6.Charging Duration (min): The duration (in minutes) of the battery charging process.\n",
        "\n",
        "7.Degradation Rate (%): A computed value representing the degradation rate of the battery, which affects its overall efficiency and charging capacity. This is calculated based on the charging duration, SOC, and battery temperature.\n",
        "Charging Mode: A categorical feature representing the charging mode used during the process. This can be one of three values: 'Fast', 'Normal', or 'Slow'.\n",
        "\n",
        "8.Efficiency (%): Battery efficiency calculated based on the degradation rate. The higher the degradation, the lower the efficiency.\n",
        "Battery Type: The type of battery used in the EV. This feature has two possible values: 'Li-ion' (Lithium-ion) and 'LiFePO4' (Lithium Iron Phosphate).\n",
        "\n",
        "9.Charging Cycles: The number of charging cycles the battery has undergone. A charging cycle is counted when the battery goes from full charge to empty and back to full charge.\n",
        "EV Model: The model of the electric vehicle, which can be one of the following: 'Model A', 'Model B', or 'Model C'.\n",
        "\n",
        "10.Optimal Charging Duration Class: The target variable representing the classification of the optimal charging duration:\n",
        "\n",
        "  Short (0): Charging duration is short (≤ 40 minutes).\n",
        "\n",
        "  Medium (1): Charging duration is moderate (≤ 80 minutes).\n",
        "\n",
        "  Long (2): Charging duration is long (> 80 minutes).\n",
        "\n"
      ],
      "metadata": {
        "id": "Z9okERw1X2kt"
      }
    },
    {
      "cell_type": "markdown",
      "source": [
        "##Step 1: Set up the environment"
      ],
      "metadata": {
        "id": "VsPwzOAXjSWF"
      }
    },
    {
      "cell_type": "code",
      "execution_count": null,
      "metadata": {
        "id": "jE9fhTdcU-sg",
        "colab": {
          "base_uri": "https://localhost:8080/"
        },
        "collapsed": true,
        "outputId": "314fa018-0090-4e0c-9e4d-156bf42cb2b1"
      },
      "outputs": [
        {
          "output_type": "stream",
          "name": "stdout",
          "text": [
            "Requirement already satisfied: pandas in /usr/local/lib/python3.11/dist-packages (2.2.2)\n",
            "Requirement already satisfied: scikit-learn in /usr/local/lib/python3.11/dist-packages (1.6.1)\n",
            "Requirement already satisfied: matplotlib in /usr/local/lib/python3.11/dist-packages (3.10.0)\n",
            "Requirement already satisfied: seaborn in /usr/local/lib/python3.11/dist-packages (0.13.2)\n",
            "Requirement already satisfied: numpy>=1.23.2 in /usr/local/lib/python3.11/dist-packages (from pandas) (2.0.2)\n",
            "Requirement already satisfied: python-dateutil>=2.8.2 in /usr/local/lib/python3.11/dist-packages (from pandas) (2.9.0.post0)\n",
            "Requirement already satisfied: pytz>=2020.1 in /usr/local/lib/python3.11/dist-packages (from pandas) (2025.2)\n",
            "Requirement already satisfied: tzdata>=2022.7 in /usr/local/lib/python3.11/dist-packages (from pandas) (2025.2)\n",
            "Requirement already satisfied: scipy>=1.6.0 in /usr/local/lib/python3.11/dist-packages (from scikit-learn) (1.15.2)\n",
            "Requirement already satisfied: joblib>=1.2.0 in /usr/local/lib/python3.11/dist-packages (from scikit-learn) (1.4.2)\n",
            "Requirement already satisfied: threadpoolctl>=3.1.0 in /usr/local/lib/python3.11/dist-packages (from scikit-learn) (3.6.0)\n",
            "Requirement already satisfied: contourpy>=1.0.1 in /usr/local/lib/python3.11/dist-packages (from matplotlib) (1.3.2)\n",
            "Requirement already satisfied: cycler>=0.10 in /usr/local/lib/python3.11/dist-packages (from matplotlib) (0.12.1)\n",
            "Requirement already satisfied: fonttools>=4.22.0 in /usr/local/lib/python3.11/dist-packages (from matplotlib) (4.57.0)\n",
            "Requirement already satisfied: kiwisolver>=1.3.1 in /usr/local/lib/python3.11/dist-packages (from matplotlib) (1.4.8)\n",
            "Requirement already satisfied: packaging>=20.0 in /usr/local/lib/python3.11/dist-packages (from matplotlib) (24.2)\n",
            "Requirement already satisfied: pillow>=8 in /usr/local/lib/python3.11/dist-packages (from matplotlib) (11.2.1)\n",
            "Requirement already satisfied: pyparsing>=2.3.1 in /usr/local/lib/python3.11/dist-packages (from matplotlib) (3.2.3)\n",
            "Requirement already satisfied: six>=1.5 in /usr/local/lib/python3.11/dist-packages (from python-dateutil>=2.8.2->pandas) (1.17.0)\n"
          ]
        }
      ],
      "source": [
        "!pip install pandas scikit-learn matplotlib seaborn"
      ]
    },
    {
      "cell_type": "code",
      "source": [
        "import pandas as pd\n",
        "import numpy as np"
      ],
      "metadata": {
        "id": "eALJl48JYLx1"
      },
      "execution_count": null,
      "outputs": []
    },
    {
      "cell_type": "markdown",
      "source": [
        "##Step 2: Load and explore the dataset"
      ],
      "metadata": {
        "id": "4fb_JqF_kzlz"
      }
    },
    {
      "cell_type": "code",
      "source": [
        "# Load dataset\n",
        "url = 'ev_battery_charging_data.csv'  # Replace with your dataset path or URL\n",
        "data = pd.read_csv(url)\n",
        "# Display the first few rows of the dataset\n",
        "data.head()"
      ],
      "metadata": {
        "colab": {
          "base_uri": "https://localhost:8080/",
          "height": 345
        },
        "id": "DbZLlqojjmwk",
        "outputId": "3938b1d9-17fe-414c-b048-dc461056236f"
      },
      "execution_count": null,
      "outputs": [
        {
          "output_type": "execute_result",
          "data": {
            "text/plain": [
              "     SOC (%)  Voltage (V)  Current (A)  Battery Temp (°C)  Ambient Temp (°C)  \\\n",
              "0  43.708611     3.629593    33.553512          33.454060          26.439918   \n",
              "1  95.564288     3.879331    32.228092          35.933628          31.108647   \n",
              "2  75.879455     4.111062    91.562912          25.009358          30.203219   \n",
              "3  63.879264     4.012557    32.459158          32.497482          18.077998   \n",
              "4  24.041678     4.064593    34.475475          31.434920          17.984989   \n",
              "\n",
              "   Charging Duration (min)  Degradation Rate (%) Charging Mode  \\\n",
              "0                59.363552              8.805096          Fast   \n",
              "1                67.343566             12.186860          Fast   \n",
              "2               105.454739             13.832336          Slow   \n",
              "3                54.000439              9.318874          Fast   \n",
              "4               106.964968             11.687577          Fast   \n",
              "\n",
              "   Efficiency (%) Battery Type  Charging Cycles EV Model  \\\n",
              "0       98.238981       Li-ion              112  Model B   \n",
              "1       97.562628      LiFePO4              398  Model A   \n",
              "2       97.233533      LiFePO4              175  Model A   \n",
              "3       98.136225      LiFePO4              150  Model B   \n",
              "4       97.662485       Li-ion              886  Model C   \n",
              "\n",
              "   Optimal Charging Duration Class  \n",
              "0                                1  \n",
              "1                                1  \n",
              "2                                2  \n",
              "3                                1  \n",
              "4                                2  "
            ],
            "text/html": [
              "\n",
              "  <div id=\"df-a8c5cf36-ba43-4549-815c-4074dd50bee3\" class=\"colab-df-container\">\n",
              "    <div>\n",
              "<style scoped>\n",
              "    .dataframe tbody tr th:only-of-type {\n",
              "        vertical-align: middle;\n",
              "    }\n",
              "\n",
              "    .dataframe tbody tr th {\n",
              "        vertical-align: top;\n",
              "    }\n",
              "\n",
              "    .dataframe thead th {\n",
              "        text-align: right;\n",
              "    }\n",
              "</style>\n",
              "<table border=\"1\" class=\"dataframe\">\n",
              "  <thead>\n",
              "    <tr style=\"text-align: right;\">\n",
              "      <th></th>\n",
              "      <th>SOC (%)</th>\n",
              "      <th>Voltage (V)</th>\n",
              "      <th>Current (A)</th>\n",
              "      <th>Battery Temp (°C)</th>\n",
              "      <th>Ambient Temp (°C)</th>\n",
              "      <th>Charging Duration (min)</th>\n",
              "      <th>Degradation Rate (%)</th>\n",
              "      <th>Charging Mode</th>\n",
              "      <th>Efficiency (%)</th>\n",
              "      <th>Battery Type</th>\n",
              "      <th>Charging Cycles</th>\n",
              "      <th>EV Model</th>\n",
              "      <th>Optimal Charging Duration Class</th>\n",
              "    </tr>\n",
              "  </thead>\n",
              "  <tbody>\n",
              "    <tr>\n",
              "      <th>0</th>\n",
              "      <td>43.708611</td>\n",
              "      <td>3.629593</td>\n",
              "      <td>33.553512</td>\n",
              "      <td>33.454060</td>\n",
              "      <td>26.439918</td>\n",
              "      <td>59.363552</td>\n",
              "      <td>8.805096</td>\n",
              "      <td>Fast</td>\n",
              "      <td>98.238981</td>\n",
              "      <td>Li-ion</td>\n",
              "      <td>112</td>\n",
              "      <td>Model B</td>\n",
              "      <td>1</td>\n",
              "    </tr>\n",
              "    <tr>\n",
              "      <th>1</th>\n",
              "      <td>95.564288</td>\n",
              "      <td>3.879331</td>\n",
              "      <td>32.228092</td>\n",
              "      <td>35.933628</td>\n",
              "      <td>31.108647</td>\n",
              "      <td>67.343566</td>\n",
              "      <td>12.186860</td>\n",
              "      <td>Fast</td>\n",
              "      <td>97.562628</td>\n",
              "      <td>LiFePO4</td>\n",
              "      <td>398</td>\n",
              "      <td>Model A</td>\n",
              "      <td>1</td>\n",
              "    </tr>\n",
              "    <tr>\n",
              "      <th>2</th>\n",
              "      <td>75.879455</td>\n",
              "      <td>4.111062</td>\n",
              "      <td>91.562912</td>\n",
              "      <td>25.009358</td>\n",
              "      <td>30.203219</td>\n",
              "      <td>105.454739</td>\n",
              "      <td>13.832336</td>\n",
              "      <td>Slow</td>\n",
              "      <td>97.233533</td>\n",
              "      <td>LiFePO4</td>\n",
              "      <td>175</td>\n",
              "      <td>Model A</td>\n",
              "      <td>2</td>\n",
              "    </tr>\n",
              "    <tr>\n",
              "      <th>3</th>\n",
              "      <td>63.879264</td>\n",
              "      <td>4.012557</td>\n",
              "      <td>32.459158</td>\n",
              "      <td>32.497482</td>\n",
              "      <td>18.077998</td>\n",
              "      <td>54.000439</td>\n",
              "      <td>9.318874</td>\n",
              "      <td>Fast</td>\n",
              "      <td>98.136225</td>\n",
              "      <td>LiFePO4</td>\n",
              "      <td>150</td>\n",
              "      <td>Model B</td>\n",
              "      <td>1</td>\n",
              "    </tr>\n",
              "    <tr>\n",
              "      <th>4</th>\n",
              "      <td>24.041678</td>\n",
              "      <td>4.064593</td>\n",
              "      <td>34.475475</td>\n",
              "      <td>31.434920</td>\n",
              "      <td>17.984989</td>\n",
              "      <td>106.964968</td>\n",
              "      <td>11.687577</td>\n",
              "      <td>Fast</td>\n",
              "      <td>97.662485</td>\n",
              "      <td>Li-ion</td>\n",
              "      <td>886</td>\n",
              "      <td>Model C</td>\n",
              "      <td>2</td>\n",
              "    </tr>\n",
              "  </tbody>\n",
              "</table>\n",
              "</div>\n",
              "    <div class=\"colab-df-buttons\">\n",
              "\n",
              "  <div class=\"colab-df-container\">\n",
              "    <button class=\"colab-df-convert\" onclick=\"convertToInteractive('df-a8c5cf36-ba43-4549-815c-4074dd50bee3')\"\n",
              "            title=\"Convert this dataframe to an interactive table.\"\n",
              "            style=\"display:none;\">\n",
              "\n",
              "  <svg xmlns=\"http://www.w3.org/2000/svg\" height=\"24px\" viewBox=\"0 -960 960 960\">\n",
              "    <path d=\"M120-120v-720h720v720H120Zm60-500h600v-160H180v160Zm220 220h160v-160H400v160Zm0 220h160v-160H400v160ZM180-400h160v-160H180v160Zm440 0h160v-160H620v160ZM180-180h160v-160H180v160Zm440 0h160v-160H620v160Z\"/>\n",
              "  </svg>\n",
              "    </button>\n",
              "\n",
              "  <style>\n",
              "    .colab-df-container {\n",
              "      display:flex;\n",
              "      gap: 12px;\n",
              "    }\n",
              "\n",
              "    .colab-df-convert {\n",
              "      background-color: #E8F0FE;\n",
              "      border: none;\n",
              "      border-radius: 50%;\n",
              "      cursor: pointer;\n",
              "      display: none;\n",
              "      fill: #1967D2;\n",
              "      height: 32px;\n",
              "      padding: 0 0 0 0;\n",
              "      width: 32px;\n",
              "    }\n",
              "\n",
              "    .colab-df-convert:hover {\n",
              "      background-color: #E2EBFA;\n",
              "      box-shadow: 0px 1px 2px rgba(60, 64, 67, 0.3), 0px 1px 3px 1px rgba(60, 64, 67, 0.15);\n",
              "      fill: #174EA6;\n",
              "    }\n",
              "\n",
              "    .colab-df-buttons div {\n",
              "      margin-bottom: 4px;\n",
              "    }\n",
              "\n",
              "    [theme=dark] .colab-df-convert {\n",
              "      background-color: #3B4455;\n",
              "      fill: #D2E3FC;\n",
              "    }\n",
              "\n",
              "    [theme=dark] .colab-df-convert:hover {\n",
              "      background-color: #434B5C;\n",
              "      box-shadow: 0px 1px 3px 1px rgba(0, 0, 0, 0.15);\n",
              "      filter: drop-shadow(0px 1px 2px rgba(0, 0, 0, 0.3));\n",
              "      fill: #FFFFFF;\n",
              "    }\n",
              "  </style>\n",
              "\n",
              "    <script>\n",
              "      const buttonEl =\n",
              "        document.querySelector('#df-a8c5cf36-ba43-4549-815c-4074dd50bee3 button.colab-df-convert');\n",
              "      buttonEl.style.display =\n",
              "        google.colab.kernel.accessAllowed ? 'block' : 'none';\n",
              "\n",
              "      async function convertToInteractive(key) {\n",
              "        const element = document.querySelector('#df-a8c5cf36-ba43-4549-815c-4074dd50bee3');\n",
              "        const dataTable =\n",
              "          await google.colab.kernel.invokeFunction('convertToInteractive',\n",
              "                                                    [key], {});\n",
              "        if (!dataTable) return;\n",
              "\n",
              "        const docLinkHtml = 'Like what you see? Visit the ' +\n",
              "          '<a target=\"_blank\" href=https://colab.research.google.com/notebooks/data_table.ipynb>data table notebook</a>'\n",
              "          + ' to learn more about interactive tables.';\n",
              "        element.innerHTML = '';\n",
              "        dataTable['output_type'] = 'display_data';\n",
              "        await google.colab.output.renderOutput(dataTable, element);\n",
              "        const docLink = document.createElement('div');\n",
              "        docLink.innerHTML = docLinkHtml;\n",
              "        element.appendChild(docLink);\n",
              "      }\n",
              "    </script>\n",
              "  </div>\n",
              "\n",
              "\n",
              "    <div id=\"df-9562ca6e-21e4-4c0f-ba85-78741c77d755\">\n",
              "      <button class=\"colab-df-quickchart\" onclick=\"quickchart('df-9562ca6e-21e4-4c0f-ba85-78741c77d755')\"\n",
              "                title=\"Suggest charts\"\n",
              "                style=\"display:none;\">\n",
              "\n",
              "<svg xmlns=\"http://www.w3.org/2000/svg\" height=\"24px\"viewBox=\"0 0 24 24\"\n",
              "     width=\"24px\">\n",
              "    <g>\n",
              "        <path d=\"M19 3H5c-1.1 0-2 .9-2 2v14c0 1.1.9 2 2 2h14c1.1 0 2-.9 2-2V5c0-1.1-.9-2-2-2zM9 17H7v-7h2v7zm4 0h-2V7h2v10zm4 0h-2v-4h2v4z\"/>\n",
              "    </g>\n",
              "</svg>\n",
              "      </button>\n",
              "\n",
              "<style>\n",
              "  .colab-df-quickchart {\n",
              "      --bg-color: #E8F0FE;\n",
              "      --fill-color: #1967D2;\n",
              "      --hover-bg-color: #E2EBFA;\n",
              "      --hover-fill-color: #174EA6;\n",
              "      --disabled-fill-color: #AAA;\n",
              "      --disabled-bg-color: #DDD;\n",
              "  }\n",
              "\n",
              "  [theme=dark] .colab-df-quickchart {\n",
              "      --bg-color: #3B4455;\n",
              "      --fill-color: #D2E3FC;\n",
              "      --hover-bg-color: #434B5C;\n",
              "      --hover-fill-color: #FFFFFF;\n",
              "      --disabled-bg-color: #3B4455;\n",
              "      --disabled-fill-color: #666;\n",
              "  }\n",
              "\n",
              "  .colab-df-quickchart {\n",
              "    background-color: var(--bg-color);\n",
              "    border: none;\n",
              "    border-radius: 50%;\n",
              "    cursor: pointer;\n",
              "    display: none;\n",
              "    fill: var(--fill-color);\n",
              "    height: 32px;\n",
              "    padding: 0;\n",
              "    width: 32px;\n",
              "  }\n",
              "\n",
              "  .colab-df-quickchart:hover {\n",
              "    background-color: var(--hover-bg-color);\n",
              "    box-shadow: 0 1px 2px rgba(60, 64, 67, 0.3), 0 1px 3px 1px rgba(60, 64, 67, 0.15);\n",
              "    fill: var(--button-hover-fill-color);\n",
              "  }\n",
              "\n",
              "  .colab-df-quickchart-complete:disabled,\n",
              "  .colab-df-quickchart-complete:disabled:hover {\n",
              "    background-color: var(--disabled-bg-color);\n",
              "    fill: var(--disabled-fill-color);\n",
              "    box-shadow: none;\n",
              "  }\n",
              "\n",
              "  .colab-df-spinner {\n",
              "    border: 2px solid var(--fill-color);\n",
              "    border-color: transparent;\n",
              "    border-bottom-color: var(--fill-color);\n",
              "    animation:\n",
              "      spin 1s steps(1) infinite;\n",
              "  }\n",
              "\n",
              "  @keyframes spin {\n",
              "    0% {\n",
              "      border-color: transparent;\n",
              "      border-bottom-color: var(--fill-color);\n",
              "      border-left-color: var(--fill-color);\n",
              "    }\n",
              "    20% {\n",
              "      border-color: transparent;\n",
              "      border-left-color: var(--fill-color);\n",
              "      border-top-color: var(--fill-color);\n",
              "    }\n",
              "    30% {\n",
              "      border-color: transparent;\n",
              "      border-left-color: var(--fill-color);\n",
              "      border-top-color: var(--fill-color);\n",
              "      border-right-color: var(--fill-color);\n",
              "    }\n",
              "    40% {\n",
              "      border-color: transparent;\n",
              "      border-right-color: var(--fill-color);\n",
              "      border-top-color: var(--fill-color);\n",
              "    }\n",
              "    60% {\n",
              "      border-color: transparent;\n",
              "      border-right-color: var(--fill-color);\n",
              "    }\n",
              "    80% {\n",
              "      border-color: transparent;\n",
              "      border-right-color: var(--fill-color);\n",
              "      border-bottom-color: var(--fill-color);\n",
              "    }\n",
              "    90% {\n",
              "      border-color: transparent;\n",
              "      border-bottom-color: var(--fill-color);\n",
              "    }\n",
              "  }\n",
              "</style>\n",
              "\n",
              "      <script>\n",
              "        async function quickchart(key) {\n",
              "          const quickchartButtonEl =\n",
              "            document.querySelector('#' + key + ' button');\n",
              "          quickchartButtonEl.disabled = true;  // To prevent multiple clicks.\n",
              "          quickchartButtonEl.classList.add('colab-df-spinner');\n",
              "          try {\n",
              "            const charts = await google.colab.kernel.invokeFunction(\n",
              "                'suggestCharts', [key], {});\n",
              "          } catch (error) {\n",
              "            console.error('Error during call to suggestCharts:', error);\n",
              "          }\n",
              "          quickchartButtonEl.classList.remove('colab-df-spinner');\n",
              "          quickchartButtonEl.classList.add('colab-df-quickchart-complete');\n",
              "        }\n",
              "        (() => {\n",
              "          let quickchartButtonEl =\n",
              "            document.querySelector('#df-9562ca6e-21e4-4c0f-ba85-78741c77d755 button');\n",
              "          quickchartButtonEl.style.display =\n",
              "            google.colab.kernel.accessAllowed ? 'block' : 'none';\n",
              "        })();\n",
              "      </script>\n",
              "    </div>\n",
              "\n",
              "    </div>\n",
              "  </div>\n"
            ],
            "application/vnd.google.colaboratory.intrinsic+json": {
              "type": "dataframe",
              "variable_name": "data",
              "summary": "{\n  \"name\": \"data\",\n  \"rows\": 1000,\n  \"fields\": [\n    {\n      \"column\": \"SOC (%)\",\n      \"properties\": {\n        \"dtype\": \"number\",\n        \"std\": 26.292362575273703,\n        \"min\": 10.416882070414257,\n        \"max\": 99.97459059575176,\n        \"num_unique_values\": 1000,\n        \"samples\": [\n          44.28017709679194,\n          83.49394955244193,\n          51.64118071026458\n        ],\n        \"semantic_type\": \"\",\n        \"description\": \"\"\n      }\n    },\n    {\n      \"column\": \"Voltage (V)\",\n      \"properties\": {\n        \"dtype\": \"number\",\n        \"std\": 0.20453292538220902,\n        \"min\": 3.502252784522995,\n        \"max\": 4.199589608039467,\n        \"num_unique_values\": 1000,\n        \"samples\": [\n          4.15410521876386,\n          3.636235758274536,\n          4.0792765268968125\n        ],\n        \"semantic_type\": \"\",\n        \"description\": \"\"\n      }\n    },\n    {\n      \"column\": \"Current (A)\",\n      \"properties\": {\n        \"dtype\": \"number\",\n        \"std\": 26.160677594734317,\n        \"min\": 10.001047127982952,\n        \"max\": 99.80387701137803,\n        \"num_unique_values\": 1000,\n        \"samples\": [\n          22.09916164673097,\n          59.00340995202367,\n          42.91126734352342\n        ],\n        \"semantic_type\": \"\",\n        \"description\": \"\"\n      }\n    },\n    {\n      \"column\": \"Battery Temp (\\u00b0C)\",\n      \"properties\": {\n        \"dtype\": \"number\",\n        \"std\": 5.72978688703991,\n        \"min\": 20.01306781522599,\n        \"max\": 39.99115406500877,\n        \"num_unique_values\": 1000,\n        \"samples\": [\n          29.382144220951574,\n          35.02354273908085,\n          38.08719549987714\n        ],\n        \"semantic_type\": \"\",\n        \"description\": \"\"\n      }\n    },\n    {\n      \"column\": \"Ambient Temp (\\u00b0C)\",\n      \"properties\": {\n        \"dtype\": \"number\",\n        \"std\": 5.736198866357421,\n        \"min\": 15.000614376907649,\n        \"max\": 34.95498778020401,\n        \"num_unique_values\": 1000,\n        \"samples\": [\n          26.54234164775813,\n          21.9766381491726,\n          29.374362265244045\n        ],\n        \"semantic_type\": \"\",\n        \"description\": \"\"\n      }\n    },\n    {\n      \"column\": \"Charging Duration (min)\",\n      \"properties\": {\n        \"dtype\": \"number\",\n        \"std\": 28.919480657120648,\n        \"min\": 20.618382264089668,\n        \"max\": 119.93503004722002,\n        \"num_unique_values\": 1000,\n        \"samples\": [\n          77.73534012196677,\n          46.61013685373086,\n          109.09738846907038\n        ],\n        \"semantic_type\": \"\",\n        \"description\": \"\"\n      }\n    },\n    {\n      \"column\": \"Degradation Rate (%)\",\n      \"properties\": {\n        \"dtype\": \"number\",\n        \"std\": 2.697140792933375,\n        \"min\": 4.102433194939568,\n        \"max\": 16.042788496985892,\n        \"num_unique_values\": 1000,\n        \"samples\": [\n          10.161061076051071,\n          9.810052685720375,\n          13.577867849596286\n        ],\n        \"semantic_type\": \"\",\n        \"description\": \"\"\n      }\n    },\n    {\n      \"column\": \"Charging Mode\",\n      \"properties\": {\n        \"dtype\": \"category\",\n        \"num_unique_values\": 3,\n        \"samples\": [\n          \"Fast\",\n          \"Slow\",\n          \"Normal\"\n        ],\n        \"semantic_type\": \"\",\n        \"description\": \"\"\n      }\n    },\n    {\n      \"column\": \"Efficiency (%)\",\n      \"properties\": {\n        \"dtype\": \"number\",\n        \"std\": 0.5394281585866751,\n        \"min\": 96.79144230060282,\n        \"max\": 99.17951336101208,\n        \"num_unique_values\": 1000,\n        \"samples\": [\n          97.9677877847898,\n          98.03798946285592,\n          97.28442643008074\n        ],\n        \"semantic_type\": \"\",\n        \"description\": \"\"\n      }\n    },\n    {\n      \"column\": \"Battery Type\",\n      \"properties\": {\n        \"dtype\": \"category\",\n        \"num_unique_values\": 2,\n        \"samples\": [\n          \"LiFePO4\",\n          \"Li-ion\"\n        ],\n        \"semantic_type\": \"\",\n        \"description\": \"\"\n      }\n    },\n    {\n      \"column\": \"Charging Cycles\",\n      \"properties\": {\n        \"dtype\": \"number\",\n        \"std\": 263,\n        \"min\": 101,\n        \"max\": 999,\n        \"num_unique_values\": 598,\n        \"samples\": [\n          428,\n          563\n        ],\n        \"semantic_type\": \"\",\n        \"description\": \"\"\n      }\n    },\n    {\n      \"column\": \"EV Model\",\n      \"properties\": {\n        \"dtype\": \"category\",\n        \"num_unique_values\": 3,\n        \"samples\": [\n          \"Model B\",\n          \"Model A\"\n        ],\n        \"semantic_type\": \"\",\n        \"description\": \"\"\n      }\n    },\n    {\n      \"column\": \"Optimal Charging Duration Class\",\n      \"properties\": {\n        \"dtype\": \"number\",\n        \"std\": 0,\n        \"min\": 0,\n        \"max\": 2,\n        \"num_unique_values\": 3,\n        \"samples\": [\n          1,\n          2\n        ],\n        \"semantic_type\": \"\",\n        \"description\": \"\"\n      }\n    }\n  ]\n}"
            }
          },
          "metadata": {},
          "execution_count": 12
        }
      ]
    },
    {
      "cell_type": "markdown",
      "source": [
        "##Step 3: Preprocessing the data"
      ],
      "metadata": {
        "id": "mfQdzGpskvXz"
      }
    },
    {
      "cell_type": "code",
      "source": [
        "from sklearn.model_selection import train_test_split\n",
        "from sklearn.preprocessing import StandardScaler, LabelEncoder\n",
        "\n",
        "# Handle missing values (if any)\n",
        "# Calculate the mean only for numeric columns\n",
        "numeric_data = data.select_dtypes(include=np.number)\n",
        "# print(numeric_data)\n",
        "data[numeric_data.columns] = data[numeric_data.columns].fillna(numeric_data.mean())\n",
        "\n",
        "\n",
        "# Encode categorical columns using LabelEncoder\n",
        "categorical_columns = ['Charging Mode', 'Battery Type', 'EV Model']\n",
        "label_encoders = {}\n",
        "for col in categorical_columns:\n",
        "    le = LabelEncoder()\n",
        "    data[col] = le.fit_transform(data[col])\n",
        "    label_encoders[col] = le\n",
        "\n",
        "# Split the data into features and target variable\n",
        "X = data.drop('Optimal Charging Duration Class', axis=1)\n",
        "y = data['Optimal Charging Duration Class']\n",
        "\n",
        "# Normalize numerical features using StandardScaler\n",
        "scaler = StandardScaler()\n",
        "X_scaled = scaler.fit_transform(X)\n",
        "\n",
        "# Split the dataset into training and testing sets\n",
        "X_train, X_test, y_train, y_test = train_test_split(X_scaled, y, test_size=0.2, random_state=42)\n",
        "\n"
      ],
      "metadata": {
        "id": "M0-xaVg9ktjL"
      },
      "execution_count": null,
      "outputs": []
    },
    {
      "cell_type": "markdown",
      "source": [
        "##Step 4: Train a Classification Model"
      ],
      "metadata": {
        "id": "VVi_-xW1laXU"
      }
    },
    {
      "cell_type": "code",
      "source": [
        "#Random Forest Classifie\n",
        "from sklearn.ensemble import RandomForestClassifier\n",
        "from sklearn.metrics import classification_report, confusion_matrix, accuracy_score\n",
        "\n",
        "# Initialize the RandomForestClassifier\n",
        "rf_classifier = RandomForestClassifier(n_estimators=100, random_state=42)\n",
        "\n",
        "# Train the model\n",
        "rf_classifier.fit(X_train, y_train)\n",
        "# Make predictions\n",
        "y_pred = rf_classifier.predict(X_test)\n",
        "# print(y_pred)\n",
        "\n",
        "# Evaluate the model\n",
        "print(\"Confusion Matrix:\")\n",
        "print(confusion_matrix(y_test, y_pred))\n",
        "\n",
        "print(\"\\nClassification Report:\")\n",
        "print(classification_report(y_test, y_pred))\n",
        "\n",
        "print(\"\\nAccuracy:\", accuracy_score(y_test, y_pred))"
      ],
      "metadata": {
        "colab": {
          "base_uri": "https://localhost:8080/"
        },
        "id": "6jc91k4yl61k",
        "outputId": "0b7968cc-69d6-4a91-90ae-cf2735d4e0b6"
      },
      "execution_count": null,
      "outputs": [
        {
          "output_type": "stream",
          "name": "stdout",
          "text": [
            "Confusion Matrix:\n",
            "[[32  1  0]\n",
            " [ 0 90  0]\n",
            " [ 0  0 77]]\n",
            "\n",
            "Classification Report:\n",
            "              precision    recall  f1-score   support\n",
            "\n",
            "           0       1.00      0.97      0.98        33\n",
            "           1       0.99      1.00      0.99        90\n",
            "           2       1.00      1.00      1.00        77\n",
            "\n",
            "    accuracy                           0.99       200\n",
            "   macro avg       1.00      0.99      0.99       200\n",
            "weighted avg       1.00      0.99      0.99       200\n",
            "\n",
            "\n",
            "Accuracy: 0.995\n"
          ]
        }
      ]
    },
    {
      "cell_type": "markdown",
      "source": [
        "##Step 5: Visualize the results"
      ],
      "metadata": {
        "id": "KcjOa9kfmUVz"
      }
    },
    {
      "cell_type": "code",
      "source": [
        "import seaborn as sns\n",
        "import matplotlib.pyplot as plt\n",
        "\n",
        "# Create a figure with two subplots arranged side-by-side\n",
        "fig, axes = plt.subplots(1, 2, figsize=(18, 6))  # 1 row, 2 columns\n",
        "\n",
        "# Confusion Matrix visualization on the first subplot (axes[0])\n",
        "conf_matrix = confusion_matrix(y_test, y_pred)\n",
        "sns.heatmap(conf_matrix, annot=True, fmt='d', cmap='Blues',\n",
        "            xticklabels=['Short', 'Medium', 'Long'],\n",
        "            yticklabels=['Short', 'Medium', 'Long'], ax=axes[0])\n",
        "axes[0].set_xlabel('Predicted')\n",
        "axes[0].set_ylabel('True')\n",
        "axes[0].set_title('Confusion Matrix')\n",
        "\n",
        "# Feature Importance visualization on the second subplot (axes[1])\n",
        "feature_importances = rf_classifier.feature_importances_\n",
        "features = X.columns\n",
        "sns.barplot(x=feature_importances, y=features, ax=axes[1])\n",
        "axes[1].set_xlabel('Feature Importance')\n",
        "axes[1].set_title('Random Forest Feature Importance')\n",
        "\n",
        "# Adjust layout and display the plots\n",
        "plt.tight_layout()  # Ensures subplots don't overlap\n",
        "plt.show()"
      ],
      "metadata": {
        "colab": {
          "base_uri": "https://localhost:8080/",
          "height": 382
        },
        "id": "HLc_3Ii7mzxj",
        "outputId": "4277e556-f467-4a92-f375-acc8726099bf"
      },
      "execution_count": null,
      "outputs": [
        {
          "output_type": "display_data",
          "data": {
            "text/plain": [
              "<Figure size 1800x600 with 3 Axes>"
            ],
            "image/png": "[encoded data removed]"
          },
          "metadata": {}
        }
      ]
    },
    {
      "cell_type": "markdown",
      "source": [
        "## Take in the specified columns as arguments and train the model accordingly."
      ],
      "metadata": {
        "id": "8FlwtPwIoUnr"
      }
    },
    {
      "cell_type": "code",
      "source": [
        "# List of all available columns\n",
        "columns = [\n",
        "    'SOC (%)', 'Voltage (V)', 'Current (A)', 'Battery Temp (°C)', 'Ambient Temp (°C)',\n",
        "    'Charging Duration (min)', 'Degradation Rate (%)', 'Charging Mode', 'Efficiency (%)',\n",
        "    'Battery Type', 'Charging Cycles', 'EV Model', 'Optimal Charging Duration Class'\n",
        "]"
      ],
      "metadata": {
        "id": "YiA1-VP0oUbM"
      },
      "execution_count": null,
      "outputs": []
    },
    {
      "cell_type": "markdown",
      "source": [
        "Function to preprocess the data (handle missing values and encode categorical features)"
      ],
      "metadata": {
        "id": "aIdRz9HNpGEr"
      }
    },
    {
      "cell_type": "code",
      "source": [
        "def preprocess_data(selected_columns):\n",
        "    # Select features and target variable\n",
        "    X = data[selected_columns]\n",
        "    y = data['Optimal Charging Duration Class']\n",
        "\n",
        "\n",
        "    # numeric_data = [X[i].select_dtypes(include=np.number) for i in range(len(X))]\n",
        "    # # print(numeric_data)\n",
        "    # data[numeric_data.columns] = data[numeric_data.columns].fillna(numeric_data.mean())\n",
        "    # numeric_data_y = y.select_dtypes(include=np.number)\n",
        "    # data[numeric_data_y.columns] = data[numeric_data_y.columns].fillna(numeric_data_y.mean())\n",
        "\n",
        "    # Handle missing values (if any)\n",
        "    X.fillna(X.mean(), inplace=True)\n",
        "    y.fillna(y.mode()[0], inplace=True)\n",
        "\n",
        "    # Encode categorical columns using LabelEncoder\n",
        "    categorical_columns = X.select_dtypes(include=['object']).columns\n",
        "    label_encoders = {}\n",
        "    for col in categorical_columns:\n",
        "        le = LabelEncoder()\n",
        "        X[col] = le.fit_transform(X[col])\n",
        "        label_encoders[col] = le\n",
        "\n",
        "    # Normalize numerical features using StandardScaler\n",
        "    scaler = StandardScaler()\n",
        "    X_scaled = scaler.fit_transform(X)\n",
        "\n",
        "    return X_scaled, y"
      ],
      "metadata": {
        "id": "qH8j4GoyoV2k"
      },
      "execution_count": null,
      "outputs": []
    },
    {
      "cell_type": "markdown",
      "source": [
        "Function to train the model"
      ],
      "metadata": {
        "id": "tDwcpwm6o8lT"
      }
    },
    {
      "cell_type": "code",
      "source": [
        "# Function to train the model\n",
        "def train_model(X_train, y_train, n_estimators=100, random_state=42):\n",
        "    rf_classifier = RandomForestClassifier(n_estimators=n_estimators, random_state=random_state)\n",
        "    rf_classifier.fit(X_train, y_train)\n",
        "    return rf_classifier"
      ],
      "metadata": {
        "id": "r-jTmcnEo6Rs"
      },
      "execution_count": null,
      "outputs": []
    },
    {
      "cell_type": "markdown",
      "source": [
        "Function to predict the test data"
      ],
      "metadata": {
        "id": "-nKjisBvpHG7"
      }
    },
    {
      "cell_type": "code",
      "source": [
        "def predict_model(rf_classifier, X_test):\n",
        "    y_pred = rf_classifier.predict(X_test)\n",
        "    return y_pred"
      ],
      "metadata": {
        "id": "SKwCbaoupHXD"
      },
      "execution_count": null,
      "outputs": []
    },
    {
      "cell_type": "markdown",
      "source": [
        "Function to calculate and print evaluation metrics (accuracy, precision, recall)"
      ],
      "metadata": {
        "id": "v92Bl2cmpRMz"
      }
    },
    {
      "cell_type": "code",
      "source": [
        "from sklearn.metrics import accuracy_score, precision_score, recall_score, classification_report\n",
        "def evaluate_model(y_test, y_pred):\n",
        "    accuracy = accuracy_score(y_test, y_pred)\n",
        "    precision =precision_score(y_test, y_pred, average='weighted')\n",
        "    recall =recall_score(y_test, y_pred, average='weighted')\n",
        "\n",
        "    print(\"Accuracy:\", accuracy)\n",
        "    print(\"Precision:\", precision)\n",
        "    print(\"Recall:\", recall)\n",
        "    print(\"Classification Report:\\n\", classification_report(y_test, y_pred))"
      ],
      "metadata": {
        "id": "m6CWMJXMpObL"
      },
      "execution_count": null,
      "outputs": []
    },
    {
      "cell_type": "markdown",
      "source": [
        "Function to plot a scatter plot of Actual vs Predicted values"
      ],
      "metadata": {
        "id": "-xQB8ie1pWNL"
      }
    },
    {
      "cell_type": "code",
      "source": [
        "def plot_scatter_pride(actual_values, predicted_values):\n",
        "    plt.figure(figsize=(8, 6))  # Adjust figure size for better visibility\n",
        "\n",
        "    # Define pride colors (you can adjust these)\n",
        "    # actual_color = 'black'  # Example: Red for actual values\n",
        "    # predicted_color = 'green'  # Example: Blue for predicted values\n",
        "\n",
        "    # Map class labels to colors\n",
        "    class_colors = {\n",
        "        0: 'red',  # Short charging duration\n",
        "        1: 'green',  # Medium charging duration\n",
        "        2: 'blue'  # Long charging duration\n",
        "    }\n",
        "\n",
        "    # Scatter plot with color-coded classes\n",
        "    plt.scatter(actual_values, predicted_values,\n",
        "                c=[class_colors[label] for label in actual_values],  # Color based on actual class\n",
        "                alpha=0.6, label='Predictions', marker='o')\n",
        "\n",
        "    # Add a diagonal line for reference (perfect predictions)\n",
        "    plt.plot([min(actual_values), max(actual_values)], [min(actual_values), max(actual_values)],\n",
        "             linestyle='--', color='gray', label='Perfect Predictions')\n",
        "\n",
        "    plt.xlabel('Actual Charging Duration Class')\n",
        "    plt.ylabel('Predicted Charging Duration Class')\n",
        "    plt.title('Scatter Plot: Actual vs Predicted Charging Duration')\n",
        "    plt.xticks([0, 1, 2], ['Short', 'Medium', 'Long'])  # Set x-axis ticks to class labels\n",
        "    plt.yticks([0, 1, 2], ['Short', 'Medium', 'Long'])  # Set y-axis ticks to class labels\n",
        "    plt.legend()\n",
        "    plt.grid(True)  # Add a grid for better readability\n",
        "    plt.show()"
      ],
      "metadata": {
        "id": "UheiXHH9pYkU"
      },
      "execution_count": null,
      "outputs": []
    },
    {
      "cell_type": "markdown",
      "source": [
        "Function to plot a confusion matrix heatmap"
      ],
      "metadata": {
        "id": "k0MSrzrBpa7G"
      }
    },
    {
      "cell_type": "code",
      "source": [
        "def plot_confusion_matrix(y_test, y_pred):\n",
        "    conf_matrix = confusion_matrix(y_test, y_pred)\n",
        "    plt.figure(figsize=(4, 3))\n",
        "    sns.heatmap(conf_matrix, annot=True, fmt='d', cmap='Blues', xticklabels=['Short', 'Medium', 'Long'], yticklabels=['Short', 'Medium', 'Long'])\n",
        "    plt.xlabel('Predicted')\n",
        "    plt.ylabel('True')\n",
        "    plt.title('Confusion Matrix')\n",
        "    plt.show()"
      ],
      "metadata": {
        "id": "T9-j4O8bpe2E"
      },
      "execution_count": null,
      "outputs": []
    },
    {
      "cell_type": "markdown",
      "source": [
        "### Main function to train, predict, and evaluate the model"
      ],
      "metadata": {
        "id": "9fKB3UGepgpj"
      }
    },
    {
      "cell_type": "code",
      "source": [
        "def main(selected_columns):\n",
        "    # Preprocess the data\n",
        "    X_scaled, y = preprocess_data(selected_columns)\n",
        "\n",
        "    # Split the dataset into training and testing sets\n",
        "    X_train, X_test, y_train, y_test = train_test_split(X_scaled, y, test_size=0.2, random_state=42)\n",
        "\n",
        "    # Train the model\n",
        "    rf_classifier = train_model(X_train, y_train,50,10)\n",
        "\n",
        "    # Make predictions\n",
        "    y_pred = predict_model(rf_classifier, X_test)\n",
        "\n",
        "    # Evaluate the model\n",
        "    evaluate_model(y_test, y_pred)\n",
        "\n",
        "    # Plot the scatter plot (Actual vs Predicted)\n",
        "    plot_scatter_pride(y_test, y_pred)\n",
        "\n",
        "    # Plot the confusion matrix\n",
        "    plot_confusion_matrix(y_test, y_pred)"
      ],
      "metadata": {
        "id": "Ffg99oVppjwb"
      },
      "execution_count": null,
      "outputs": []
    },
    {
      "cell_type": "markdown",
      "source": [
        "Specify the columns you want to use for training"
      ],
      "metadata": {
        "id": "jSH6UJAUpsDL"
      }
    },
    {
      "cell_type": "code",
      "source": [
        "selected_columns = [ 'Battery Temp (°C)', 'Ambient Temp (°C)',\n",
        "    'Charging Duration (min)', 'Charging Mode', 'Efficiency (%)',\n",
        "    'Battery Type', 'Charging Cycles']\n",
        "main(selected_columns)"
      ],
      "metadata": {
        "colab": {
          "base_uri": "https://localhost:8080/",
          "height": 1000
        },
        "id": "qjB49AHTptsL",
        "outputId": "3de2f19d-8e4d-4500-8fe5-0b7a25c6b54b"
      },
      "execution_count": null,
      "outputs": [
        {
          "output_type": "stream",
          "name": "stderr",
          "text": [
            "<ipython-input-40-e34a58751dec>:14: SettingWithCopyWarning: \n",
            "A value is trying to be set on a copy of a slice from a DataFrame\n",
            "\n",
            "See the caveats in the documentation: https://pandas.pydata.org/pandas-docs/stable/user_guide/indexing.html#returning-a-view-versus-a-copy\n",
            "  X.fillna(X.mean(), inplace=True)\n"
          ]
        },
        {
          "output_type": "stream",
          "name": "stdout",
          "text": [
            "Accuracy: 0.995\n",
            "Precision: 0.9950549450549451\n",
            "Recall: 0.995\n",
            "Classification Report:\n",
            "               precision    recall  f1-score   support\n",
            "\n",
            "           0       1.00      0.97      0.98        33\n",
            "           1       0.99      1.00      0.99        90\n",
            "           2       1.00      1.00      1.00        77\n",
            "\n",
            "    accuracy                           0.99       200\n",
            "   macro avg       1.00      0.99      0.99       200\n",
            "weighted avg       1.00      0.99      0.99       200\n",
            "\n"
          ]
        },
        {
          "output_type": "display_data",
          "data": {
            "text/plain": [
              "<Figure size 800x600 with 1 Axes>"
            ],
            "image/png": "[encoded data removed]"
          },
          "metadata": {}
        },
        {
          "output_type": "display_data",
          "data": {
            "text/plain": [
              "<Figure size 400x300 with 2 Axes>"
            ],
            "image/png": "[encoded data removed]"
          },
          "metadata": {}
        }
      ]
    },
    {
      "cell_type": "code",
      "source": [
        "import pandas as pd\n",
        "import numpy as np\n",
        "from sklearn.model_selection import train_test_split\n",
        "from sklearn.preprocessing import StandardScaler, LabelEncoder\n",
        "from sklearn.ensemble import RandomForestClassifier\n",
        "from sklearn.metrics import classification_report, confusion_matrix, accuracy_score, precision_score, recall_score\n",
        "import seaborn as sns\n",
        "import matplotlib.pyplot as plt\n",
        "\n",
        "\n",
        "class EVBatteryModel:\n",
        "    def __init__(self, data_path, n_estimators=100, random_state=42, test_size=0.2):\n",
        "        self.data_path = data_path\n",
        "        self.n_estimators = n_estimators\n",
        "        self.random_state = random_state\n",
        "        self.test_size = test_size\n",
        "        self.data = pd.read_csv(self.data_path)\n",
        "        self.label_encoders = {}\n",
        "        self.scaler = StandardScaler()\n",
        "        self.rf_classifier = RandomForestClassifier(n_estimators=self.n_estimators, random_state=self.random_state)\n",
        "\n",
        "    def preprocess_data(self, selected_columns):\n",
        "      X = self.data[selected_columns]\n",
        "      y = self.data['Optimal Charging Duration Class']\n",
        "\n",
        "      # Separate numerical and categorical columns\n",
        "      numerical_cols = X.select_dtypes(include=np.number).columns\n",
        "      categorical_cols = X.select_dtypes(include=['object']).columns\n",
        "\n",
        "      # Fill missing values for numerical columns with mean\n",
        "      X[numerical_cols] = X[numerical_cols].fillna(X[numerical_cols].mean())\n",
        "      # Fill missing values for categorical columns with mode\n",
        "      X[categorical_cols] = X[categorical_cols].fillna(X[categorical_cols].mode().iloc[0])\n",
        "\n",
        "      # Encode categorical features\n",
        "      for col in categorical_cols:\n",
        "          le = LabelEncoder()\n",
        "          X[col] = le.fit_transform(X[col])\n",
        "          self.label_encoders[col] = le\n",
        "\n",
        "      # Normalize numerical features\n",
        "      X_scaled = self.scaler.fit_transform(X)\n",
        "\n",
        "      return X_scaled, y\n",
        "\n",
        "    def train_model(self, X_train, y_train):\n",
        "        self.rf_classifier.fit(X_train, y_train)\n",
        "        return self.rf_classifier\n",
        "\n",
        "    def predict_model(self, X_test):\n",
        "        return self.rf_classifier.predict(X_test)\n",
        "\n",
        "    def evaluate_model(self, y_test, y_pred):\n",
        "        accuracy = accuracy_score(y_test, y_pred)\n",
        "        precision = precision_score(y_test, y_pred, average='weighted')\n",
        "        recall = recall_score(y_test, y_pred, average='weighted')\n",
        "\n",
        "        print(\"Accuracy:\", accuracy)\n",
        "        print(\"Precision:\", precision)\n",
        "        print(\"Recall:\", recall)\n",
        "        print(\"Classification Report:\\n\", classification_report(y_test, y_pred))\n",
        "\n",
        "    def plot_scatter_pride(self, actual_values, predicted_values):\n",
        "        plt.figure(figsize=(8, 6))\n",
        "        class_colors = {0: 'red', 1: 'green', 2: 'blue'}\n",
        "        plt.scatter(actual_values, predicted_values, c=[class_colors[label] for label in actual_values],\n",
        "                    alpha=0.6, label='Predictions', marker='o')\n",
        "        plt.plot([min(actual_values), max(actual_values)], [min(actual_values), max(actual_values)],\n",
        "                 linestyle='--', color='gray', label='Perfect Predictions')\n",
        "        plt.xlabel('Actual Charging Duration Class')\n",
        "        plt.ylabel('Predicted Charging Duration Class')\n",
        "        plt.title('Scatter Plot: Actual vs Predicted Charging Duration')\n",
        "        plt.xticks([0, 1, 2], ['Short', 'Medium', 'Long'])\n",
        "        plt.yticks([0, 1, 2], ['Short', 'Medium', 'Long'])\n",
        "        plt.legend()\n",
        "        plt.grid(True)\n",
        "        plt.show()\n",
        "\n",
        "    def plot_confusion_matrix(self, y_test, y_pred):\n",
        "        conf_matrix = confusion_matrix(y_test, y_pred)\n",
        "        plt.figure(figsize=(4, 3))\n",
        "        sns.heatmap(conf_matrix, annot=True, fmt='d', cmap='Blues',\n",
        "                    xticklabels=['Short', 'Medium', 'Long'],\n",
        "                    yticklabels=['Short', 'Medium', 'Long'])\n",
        "        plt.xlabel('Predicted')\n",
        "        plt.ylabel('True')\n",
        "        plt.title('Confusion Matrix')\n",
        "        plt.show()\n",
        "\n",
        "    def run(self, selected_columns):\n",
        "        X_scaled, y = self.preprocess_data(selected_columns)\n",
        "        X_train, X_test, y_train, y_test = train_test_split(\n",
        "            X_scaled, y, test_size=self.test_size, random_state=self.random_state\n",
        "        )\n",
        "        self.train_model(X_train, y_train)\n",
        "        y_pred = self.predict_model(X_test)\n",
        "        self.evaluate_model(y_test, y_pred)\n",
        "        self.plot_scatter_pride(y_test, y_pred)\n",
        "        self.plot_confusion_matrix(y_test, y_pred)\n",
        "\n",
        "\n",
        "\n"
      ],
      "metadata": {
        "id": "T6pCu_k-wujE"
      },
      "execution_count": null,
      "outputs": []
    },
    {
      "cell_type": "code",
      "source": [
        "# Example usage\n",
        "model = EVBatteryModel('ev_battery_charging_data.csv', n_estimators=50, random_state=10)\n",
        "selected_cols = ['SOC (%)', 'Charging Mode', 'Battery Type']\n",
        "model.run(selected_cols)"
      ],
      "metadata": {
        "id": "H602aegIy7vS"
      },
      "execution_count": null,
      "outputs": []
    }
  ]
}